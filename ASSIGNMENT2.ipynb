{
  "nbformat": 4,
  "nbformat_minor": 0,
  "metadata": {
    "colab": {
      "name": "ASSIGNMENT2.ipynb",
      "provenance": [],
      "authorship_tag": "ABX9TyOP2m7OxTrjoq4hCKUARu1D",
      "include_colab_link": true
    },
    "kernelspec": {
      "name": "python3",
      "display_name": "Python 3"
    },
    "language_info": {
      "name": "python"
    }
  },
  "cells": [
    {
      "cell_type": "markdown",
      "metadata": {
        "id": "view-in-github",
        "colab_type": "text"
      },
      "source": [
        "<a href=\"https://colab.research.google.com/github/alugunuri-harish/NNDL/blob/main/ASSIGNMENT2.ipynb\" target=\"_parent\"><img src=\"https://colab.research.google.com/assets/colab-badge.svg\" alt=\"Open In Colab\"/></a>"
      ]
    },
    {
      "cell_type": "code",
      "metadata": {
        "id": "zmqZCO-9D6SG"
      },
      "source": [
        "#Initializing Variables\n",
        "#Let us Consider f(x,y)=x**2+y**2+10\n",
        "x=-1\n",
        "y=2\n",
        "epochs=1000\n",
        "n=0.01"
      ],
      "execution_count": 1,
      "outputs": []
    },
    {
      "cell_type": "code",
      "metadata": {
        "id": "Xclsv30nFwqX"
      },
      "source": [
        "#derivative w.r.t x\n",
        "def der_x(x):\n",
        "  val=2*x\n",
        "  return val"
      ],
      "execution_count": 2,
      "outputs": []
    },
    {
      "cell_type": "code",
      "metadata": {
        "id": "wAAbt7LTF1Jg"
      },
      "source": [
        "\n",
        "#derivative w.r.t y\n",
        "def der_y(y):\n",
        "  val=2*y\n",
        "  return val"
      ],
      "execution_count": 6,
      "outputs": []
    },
    {
      "cell_type": "code",
      "metadata": {
        "id": "XV7k5RUmF5tI"
      },
      "source": [
        "iter=1"
      ],
      "execution_count": 7,
      "outputs": []
    },
    {
      "cell_type": "code",
      "metadata": {
        "id": "J0bAxaFpF9rX"
      },
      "source": [
        "while (iter<=epochs):\n",
        "  df_x=der_x(x)\n",
        "  df_y=der_y(y)\n",
        " \n",
        "  x1=(-1)*n*df_x\n",
        "  y1=(-1)*n*df_y\n",
        " \n",
        "  x=x+x1\n",
        "  y=y+y1\n",
        " \n",
        "  iter=iter+1"
      ],
      "execution_count": 8,
      "outputs": []
    },
    {
      "cell_type": "code",
      "metadata": {
        "colab": {
          "base_uri": "https://localhost:8080/"
        },
        "id": "PK-FTMEpGBsX",
        "outputId": "b0b30df3-6656-4ccf-f482-bc07b2e384f3"
      },
      "source": [
        "print(str(x)+\"\\n\"+str(y))"
      ],
      "execution_count": 9,
      "outputs": [
        {
          "output_type": "stream",
          "text": [
            "-2.832379125454458e-18\n",
            "5.664758250908916e-18\n"
          ],
          "name": "stdout"
        }
      ]
    },
    {
      "cell_type": "code",
      "metadata": {
        "id": "ScOA8bcwGVFC"
      },
      "source": [
        "def f(x,y):\n",
        "  val=(x**2+y**2+10)\n",
        "  return val"
      ],
      "execution_count": 10,
      "outputs": []
    },
    {
      "cell_type": "code",
      "metadata": {
        "colab": {
          "base_uri": "https://localhost:8080/"
        },
        "id": "iiIl6sn-Gi_R",
        "outputId": "1b323eec-6468-4703-faa9-203c0bfb4d3a"
      },
      "source": [
        "print(\"Global Minimum Value of f(x,y)=\"+str(f(x,y))+\" at (x,y)=(\"+str(x)+\",\"+str(y)+\")\")"
      ],
      "execution_count": 11,
      "outputs": [
        {
          "output_type": "stream",
          "text": [
            "Global Minimum Value of f(x,y)=10.0 at (x,y)=(-2.832379125454458e-18,5.664758250908916e-18)\n"
          ],
          "name": "stdout"
        }
      ]
    },
    {
      "cell_type": "code",
      "metadata": {
        "id": "mQ4_ZTI8GjB0"
      },
      "source": [
        ""
      ],
      "execution_count": null,
      "outputs": []
    }
  ]
}