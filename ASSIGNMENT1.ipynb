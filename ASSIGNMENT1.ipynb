{
  "nbformat": 4,
  "nbformat_minor": 0,
  "metadata": {
    "colab": {
      "name": "ASSIGNMENT1.ipynb",
      "provenance": [],
      "authorship_tag": "ABX9TyNpSbOAIgxnIB4U9zwesynJ",
      "include_colab_link": true
    },
    "kernelspec": {
      "name": "python3",
      "display_name": "Python 3"
    },
    "language_info": {
      "name": "python"
    }
  },
  "cells": [
    {
      "cell_type": "markdown",
      "metadata": {
        "id": "view-in-github",
        "colab_type": "text"
      },
      "source": [
        "<a href=\"https://colab.research.google.com/github/alugunuri-harish/NNDL/blob/main/ASSIGNMENT1.ipynb\" target=\"_parent\"><img src=\"https://colab.research.google.com/assets/colab-badge.svg\" alt=\"Open In Colab\"/></a>"
      ]
    },
    {
      "cell_type": "code",
      "metadata": {
        "colab": {
          "base_uri": "https://localhost:8080/"
        },
        "id": "2j-X6MW6DuG5",
        "outputId": "ee6e7968-cca2-4e99-b089-bc940dadc605"
      },
      "source": [
        "\n",
        "from sympy import *\n",
        "x=Symbol('x')\n",
        "f=x**4+3*x**2+10\n",
        "#learning rate\n",
        "n=0.001\n",
        "max_iterations=1000\n",
        "iter=0\n",
        "fd=f.diff(x)\n",
        "f=lambdify(x,f)\n",
        "fd=lambdify(x,fd)\n",
        "x=10\n",
        "while iter<max_iterations:\n",
        "  x=x-(n*fd(x))\n",
        "  iter=iter+1\n",
        "else:\n",
        "  f=int(f(x))\n",
        "  x=int(x)\n",
        "  print(\"Minimun Value of f(x)=\"+str(f)+ \" at x=\"+str(x))"
      ],
      "execution_count": 1,
      "outputs": [
        {
          "output_type": "stream",
          "text": [
            "Minimun Value of f(x)=10 at x=0\n"
          ],
          "name": "stdout"
        }
      ]
    }
  ]
}