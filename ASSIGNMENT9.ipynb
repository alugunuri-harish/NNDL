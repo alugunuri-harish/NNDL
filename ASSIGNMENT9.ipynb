{
  "nbformat": 4,
  "nbformat_minor": 0,
  "metadata": {
    "colab": {
      "name": "ASSIGNMENT9.ipynb",
      "provenance": [],
      "authorship_tag": "ABX9TyOtRkFtKsLqmOm9Tt9f7XGp",
      "include_colab_link": true
    },
    "kernelspec": {
      "name": "python3",
      "display_name": "Python 3"
    },
    "language_info": {
      "name": "python"
    }
  },
  "cells": [
    {
      "cell_type": "markdown",
      "metadata": {
        "id": "view-in-github",
        "colab_type": "text"
      },
      "source": [
        "<a href=\"https://colab.research.google.com/github/alugunuri-harish/NNDL/blob/main/ASSIGNMENT9.ipynb\" target=\"_parent\"><img src=\"https://colab.research.google.com/assets/colab-badge.svg\" alt=\"Open In Colab\"/></a>"
      ]
    },
    {
      "cell_type": "code",
      "metadata": {
        "colab": {
          "base_uri": "https://localhost:8080/"
        },
        "id": "FQuxcOMGOwas",
        "outputId": "11a266f4-3db3-43ff-d0b7-a72ea291ab32"
      },
      "source": [
        "import numpy as np\n",
        "import pandas as pd\n",
        "import matplotlib.pyplot as plt\n",
        " \n",
        "data=np.array([[0.2,3.4],[0.4,3.8],[0.6,4.2],[0.8,4.6]])\n",
        "data"
      ],
      "execution_count": 1,
      "outputs": [
        {
          "output_type": "execute_result",
          "data": {
            "text/plain": [
              "array([[0.2, 3.4],\n",
              "       [0.4, 3.8],\n",
              "       [0.6, 4.2],\n",
              "       [0.8, 4.6]])"
            ]
          },
          "metadata": {
            "tags": []
          },
          "execution_count": 1
        }
      ]
    },
    {
      "cell_type": "code",
      "metadata": {
        "id": "1MHfg84JO0_m"
      },
      "source": [
        "\n",
        "x=[]\n",
        "y=[]\n",
        "for i in range(0,len(data)):\n",
        "  x.append(data[i][0])\n",
        "for i in range(0,len(data)):\n",
        "  y.append(data[i][1])\n",
        "x=np.array(x)\n",
        "y=np.array(y)"
      ],
      "execution_count": 7,
      "outputs": []
    },
    {
      "cell_type": "code",
      "metadata": {
        "id": "SXa2F8QTO1Gq"
      },
      "source": [
        "m=1\n",
        "c=-1\n",
        "epochs=100\n",
        "n=0.1\n",
        "ns=len(data)\n",
        "vm=0\n",
        "vc=0\n",
        "iter=1\n",
        "momentum=0.9"
      ],
      "execution_count": 8,
      "outputs": []
    },
    {
      "cell_type": "code",
      "metadata": {
        "id": "lHdoCyETPOWM"
      },
      "source": [
        "\n",
        "while (iter<=epochs):\n",
        "  for i in range(0,ns):\n",
        "    der_m = (-1)*(y[i] - (m*x[i]) - c)*x[i]\n",
        "    der_c = (-1)*(y[i] - (m*x[i]) - c)\n",
        " \n",
        "    vm = (vm*momentum) - (n*der_m)\n",
        "    vc = (vc*momentum) - (n*der_c)\n",
        " \n",
        "    m = m + vm\n",
        "    c = c + vc\n",
        " \n",
        "  iter = iter + 1\n",
        "print(m,c)"
      ],
      "execution_count": null,
      "outputs": []
    },
    {
      "cell_type": "code",
      "metadata": {
        "colab": {
          "base_uri": "https://localhost:8080/"
        },
        "id": "-NQJGEq-POis",
        "outputId": "a4623203-bc02-41d2-dd65-552422cb0e4e"
      },
      "source": [
        "# Mean Square Error\n",
        " \n",
        "mse = 0\n",
        "for i in range(0,ns):\n",
        "  mse += (y[i] - (m*x[i]) - c)**2\n",
        "mse = mse/ns\n",
        "mse"
      ],
      "execution_count": 9,
      "outputs": [
        {
          "output_type": "execute_result",
          "data": {
            "text/plain": [
              "20.299999999999997"
            ]
          },
          "metadata": {
            "tags": []
          },
          "execution_count": 9
        }
      ]
    },
    {
      "cell_type": "code",
      "metadata": {
        "colab": {
          "base_uri": "https://localhost:8080/"
        },
        "id": "NdiwfJUdPW1e",
        "outputId": "6976ccbb-732b-445e-d709-bcb92d39265d"
      },
      "source": [
        "\n",
        "predict = []\n",
        "for i in range(0,ns):\n",
        "  predict.append(m*x[i]+c)\n",
        "predict"
      ],
      "execution_count": 10,
      "outputs": [
        {
          "output_type": "execute_result",
          "data": {
            "text/plain": [
              "[-0.8, -0.6, -0.4, -0.19999999999999996]"
            ]
          },
          "metadata": {
            "tags": []
          },
          "execution_count": 10
        }
      ]
    },
    {
      "cell_type": "code",
      "metadata": {
        "colab": {
          "base_uri": "https://localhost:8080/",
          "height": 279
        },
        "id": "XnkjBEzAPZWM",
        "outputId": "9f40146d-4cf4-4363-d7f4-ecd869df20f9"
      },
      "source": [
        "plt.plot(x,y,'--',color='b',label='Original Data')\n",
        "plt.scatter(x,predict,color='r',label='Predicted Data')\n",
        "plt.xlabel('X-DATA')\n",
        "plt.ylabel('Y-DATA')\n",
        "plt.legend()\n",
        "plt.show()"
      ],
      "execution_count": 11,
      "outputs": [
        {
          "output_type": "display_data",
          "data": {
            "image/png": "[encoded data removed]",
            "text/plain": [
              "<Figure size 432x288 with 1 Axes>"
            ]
          },
          "metadata": {
            "tags": [],
            "needs_background": "light"
          }
        }
      ]
    },
    {
      "cell_type": "code",
      "metadata": {
        "id": "Xp2kEJbNPmoU"
      },
      "source": [
        ""
      ],
      "execution_count": null,
      "outputs": []
    },
    {
      "cell_type": "code",
      "metadata": {
        "id": "MvyDT8mCPmux"
      },
      "source": [
        ""
      ],
      "execution_count": null,
      "outputs": []
    }
  ]
}